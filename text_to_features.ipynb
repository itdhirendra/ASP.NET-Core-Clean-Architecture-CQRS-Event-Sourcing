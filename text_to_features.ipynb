{
  "nbformat": 4,
  "nbformat_minor": 0,
  "metadata": {
    "colab": {
      "provenance": []
    },
    "kernelspec": {
      "name": "python3",
      "display_name": "Python 3"
    },
    "language_info": {
      "name": "python"
    }
  },
  "cells": [
    {
      "cell_type": "code",
      "execution_count": null,
      "metadata": {
        "colab": {
          "base_uri": "https://localhost:8080/"
        },
        "id": "fsTOI3QiPruX",
        "outputId": "86ff0292-1f90-48ae-9f02-c43b5822c5b3"
      },
      "outputs": [
        {
          "output_type": "stream",
          "name": "stderr",
          "text": [
            "[nltk_data] Downloading package punkt to /root/nltk_data...\n",
            "[nltk_data]   Package punkt is already up-to-date!\n",
            "[nltk_data] Downloading package punkt_tab to /root/nltk_data...\n",
            "[nltk_data]   Unzipping tokenizers/punkt_tab.zip.\n"
          ]
        },
        {
          "output_type": "execute_result",
          "data": {
            "text/plain": [
              "True"
            ]
          },
          "metadata": {},
          "execution_count": 4
        }
      ],
      "source": [
        "import nltk\n",
        "import re\n",
        "nltk.download('punkt')\n",
        "nltk.download('punkt_tab')"
      ]
    },
    {
      "cell_type": "code",
      "source": [
        "sentence = '''\n",
        "Hello I am Aayush living in Canada,\n",
        "but mentally I am wandering in the streets of India,\n",
        "eating american food &\n",
        "living indian life\n",
        "drinking candian water.'''\n"
      ],
      "metadata": {
        "id": "Ksy0XLQPP3sl"
      },
      "execution_count": null,
      "outputs": []
    },
    {
      "cell_type": "code",
      "source": [
        "# Clean\n",
        "# re.sub(\",\",\"\",\"This is the sample, text we have\")\n",
        "# re.sub(\"&\",\"\",\"This is the sample& text we have\")\n",
        "# re.sub(r'[^\\w\\s]',\"\",\"This is the, #check sample& text we 2 3 have.\")\n",
        "# sentence=re.sub(r'[^\\w\\s]',\"\",sentence)\n",
        "# ^ - NOT\n",
        "# \\w - all words(including numbers)\n",
        "# \\s - all whitespace characters\n",
        "\n",
        "#lowercase\n",
        "# sentence=sentence.lower()"
      ],
      "metadata": {
        "id": "8h5qIntEUVDy"
      },
      "execution_count": null,
      "outputs": []
    },
    {
      "cell_type": "code",
      "source": [
        "re.sub(r'[\\d]',\"\",\"This is 2 34 number\")"
      ],
      "metadata": {
        "colab": {
          "base_uri": "https://localhost:8080/",
          "height": 36
        },
        "id": "OKVH-5NUVVVd",
        "outputId": "f6d6da6f-e524-4e16-f6f9-71b3e0da9dc1"
      },
      "execution_count": null,
      "outputs": [
        {
          "output_type": "execute_result",
          "data": {
            "text/plain": [
              "'This is   number'"
            ],
            "application/vnd.google.colaboratory.intrinsic+json": {
              "type": "string"
            }
          },
          "metadata": {},
          "execution_count": 35
        }
      ]
    },
    {
      "cell_type": "code",
      "source": [
        "\n",
        "\n",
        "from nltk.tokenize import word_tokenize\n",
        "tokens=word_tokenize(sentence)\n",
        "tokens"
      ],
      "metadata": {
        "colab": {
          "base_uri": "https://localhost:8080/"
        },
        "id": "OPVQ6hVcUS5k",
        "outputId": "6cee2bb7-14ca-4561-98e4-20dfe8698f5e"
      },
      "execution_count": null,
      "outputs": [
        {
          "output_type": "execute_result",
          "data": {
            "text/plain": [
              "['Hello',\n",
              " 'I',\n",
              " 'am',\n",
              " 'Aayush',\n",
              " 'living',\n",
              " 'in',\n",
              " 'Canada',\n",
              " ',',\n",
              " 'but',\n",
              " 'mentally',\n",
              " 'I',\n",
              " 'am',\n",
              " 'wandering',\n",
              " 'in',\n",
              " 'the',\n",
              " 'streets',\n",
              " 'of',\n",
              " 'India',\n",
              " ',',\n",
              " 'eating',\n",
              " 'american',\n",
              " 'food',\n",
              " '&',\n",
              " 'living',\n",
              " 'indian',\n",
              " 'life',\n",
              " 'drinking',\n",
              " 'candian',\n",
              " 'water',\n",
              " '.']"
            ]
          },
          "metadata": {},
          "execution_count": 38
        }
      ]
    },
    {
      "cell_type": "code",
      "source": [
        "# Lowercasing\n",
        "lowercase_word=[]\n",
        "for word in tokens:\n",
        "  lowercase_word.append(word.lower())"
      ],
      "metadata": {
        "id": "fMUCVJLpThbt"
      },
      "execution_count": null,
      "outputs": []
    },
    {
      "cell_type": "code",
      "source": [
        "# lowercase_word"
      ],
      "metadata": {
        "id": "LO8A0TP9T6JD"
      },
      "execution_count": null,
      "outputs": []
    },
    {
      "cell_type": "code",
      "source": [
        "import re"
      ],
      "metadata": {
        "id": "Qxnm3-ETT7DZ"
      },
      "execution_count": null,
      "outputs": []
    },
    {
      "cell_type": "code",
      "source": [
        "clean_words=[]\n",
        "for word in lowercase_word:\n",
        "  # if re.match(r'[^\\w\\s]',word):\n",
        "  #   continue\n",
        "  # else:\n",
        "  #   clean_words.append(word)\n",
        "  clean=re.sub(r'[^\\w\\s]',\"\",word)\n",
        "  if len(clean)==0:\n",
        "    continue\n",
        "  else:\n",
        "    clean_words.append(clean)\n",
        "  # clean_words.append(re.sub(r'[^\\w\\s]',\"\",word))"
      ],
      "metadata": {
        "id": "2MxAuWEDUPb9"
      },
      "execution_count": null,
      "outputs": []
    },
    {
      "cell_type": "code",
      "source": [
        "clean_words"
      ],
      "metadata": {
        "colab": {
          "base_uri": "https://localhost:8080/"
        },
        "id": "o16lI7ohWygm",
        "outputId": "f7f3d49f-e038-4293-88e9-62ac4b939d02"
      },
      "execution_count": null,
      "outputs": [
        {
          "output_type": "execute_result",
          "data": {
            "text/plain": [
              "['hello',\n",
              " 'i',\n",
              " 'am',\n",
              " 'aayush',\n",
              " 'living',\n",
              " 'in',\n",
              " 'canada',\n",
              " 'but',\n",
              " 'mentally',\n",
              " 'i',\n",
              " 'am',\n",
              " 'wandering',\n",
              " 'in',\n",
              " 'the',\n",
              " 'streets',\n",
              " 'of',\n",
              " 'india',\n",
              " 'eating',\n",
              " 'american',\n",
              " 'food',\n",
              " 'living',\n",
              " 'indian',\n",
              " 'life',\n",
              " 'drinking',\n",
              " 'candian',\n",
              " 'water']"
            ]
          },
          "metadata": {},
          "execution_count": 46
        }
      ]
    },
    {
      "cell_type": "code",
      "source": [
        "# text Standardization\n",
        "from nltk.stem.porter import PorterStemmer\n",
        "from nltk.stem.snowball import SnowballStemmer"
      ],
      "metadata": {
        "id": "TVDszqAAXA-q"
      },
      "execution_count": null,
      "outputs": []
    },
    {
      "cell_type": "code",
      "source": [
        "ps=PorterStemmer()\n",
        "sb=SnowballStemmer(\"english\")\n",
        "stemmed_words=[]\n",
        "for word in clean_words:\n",
        "  # stemmed_words.append(ps.stem(word))\n",
        "  print(word, \" || \",ps.stem(word), \" || \",sb.stem(word))"
      ],
      "metadata": {
        "colab": {
          "base_uri": "https://localhost:8080/"
        },
        "id": "1IrflKp6X1Uu",
        "outputId": "16e1ea14-f84f-445c-867f-4fb60dbc1a9d"
      },
      "execution_count": null,
      "outputs": [
        {
          "output_type": "stream",
          "name": "stdout",
          "text": [
            "hello  ||  hello  ||  hello\n",
            "i  ||  i  ||  i\n",
            "am  ||  am  ||  am\n",
            "aayush  ||  aayush  ||  aayush\n",
            "living  ||  live  ||  live\n",
            "in  ||  in  ||  in\n",
            "canada  ||  canada  ||  canada\n",
            "but  ||  but  ||  but\n",
            "mentally  ||  mental  ||  mental\n",
            "i  ||  i  ||  i\n",
            "am  ||  am  ||  am\n",
            "wandering  ||  wander  ||  wander\n",
            "in  ||  in  ||  in\n",
            "the  ||  the  ||  the\n",
            "streets  ||  street  ||  street\n",
            "of  ||  of  ||  of\n",
            "india  ||  india  ||  india\n",
            "eating  ||  eat  ||  eat\n",
            "american  ||  american  ||  american\n",
            "food  ||  food  ||  food\n",
            "living  ||  live  ||  live\n",
            "indian  ||  indian  ||  indian\n",
            "life  ||  life  ||  life\n",
            "drinking  ||  drink  ||  drink\n",
            "candian  ||  candian  ||  candian\n",
            "water  ||  water  ||  water\n"
          ]
        }
      ]
    },
    {
      "cell_type": "code",
      "source": [
        "nltk.download('wordnet')"
      ],
      "metadata": {
        "colab": {
          "base_uri": "https://localhost:8080/"
        },
        "id": "Ep5z-9QSZS6d",
        "outputId": "c26512fc-6e08-408a-fedd-eebf574a3656"
      },
      "execution_count": null,
      "outputs": [
        {
          "output_type": "stream",
          "name": "stderr",
          "text": [
            "[nltk_data] Downloading package wordnet to /root/nltk_data...\n"
          ]
        },
        {
          "output_type": "execute_result",
          "data": {
            "text/plain": [
              "True"
            ]
          },
          "metadata": {},
          "execution_count": 59
        }
      ]
    },
    {
      "cell_type": "code",
      "source": [
        "# Lemmatizer\n",
        "from nltk.stem import WordNetLemmatizer\n",
        "wml=WordNetLemmatizer()\n",
        "for word in clean_words:\n",
        "  # stemmed_words.append(ps.stem(word))\n",
        "  print(word, \" || \",wml.lemmatize(word))"
      ],
      "metadata": {
        "colab": {
          "base_uri": "https://localhost:8080/"
        },
        "id": "1TeGURJRYNzj",
        "outputId": "eb1ff180-8933-4cc8-a9cf-9c35595ec04e"
      },
      "execution_count": null,
      "outputs": [
        {
          "output_type": "stream",
          "name": "stdout",
          "text": [
            "hello  ||  hello\n",
            "i  ||  i\n",
            "am  ||  am\n",
            "aayush  ||  aayush\n",
            "living  ||  living\n",
            "in  ||  in\n",
            "canada  ||  canada\n",
            "but  ||  but\n",
            "mentally  ||  mentally\n",
            "i  ||  i\n",
            "am  ||  am\n",
            "wandering  ||  wandering\n",
            "in  ||  in\n",
            "the  ||  the\n",
            "streets  ||  street\n",
            "of  ||  of\n",
            "india  ||  india\n",
            "eating  ||  eating\n",
            "american  ||  american\n",
            "food  ||  food\n",
            "living  ||  living\n",
            "indian  ||  indian\n",
            "life  ||  life\n",
            "drinking  ||  drinking\n",
            "candian  ||  candian\n",
            "water  ||  water\n"
          ]
        }
      ]
    },
    {
      "cell_type": "code",
      "source": [
        "# removing stopwords\n",
        "nltk.download('stopwords')"
      ],
      "metadata": {
        "colab": {
          "base_uri": "https://localhost:8080/"
        },
        "id": "yF7Gd0EbYOu4",
        "outputId": "af3c488f-fa5c-4757-b79b-b08e7cd9a2c1"
      },
      "execution_count": null,
      "outputs": [
        {
          "output_type": "stream",
          "name": "stderr",
          "text": [
            "[nltk_data] Downloading package stopwords to /root/nltk_data...\n",
            "[nltk_data]   Unzipping corpora/stopwords.zip.\n"
          ]
        },
        {
          "output_type": "execute_result",
          "data": {
            "text/plain": [
              "True"
            ]
          },
          "metadata": {},
          "execution_count": 61
        }
      ]
    },
    {
      "cell_type": "code",
      "source": [
        "from nltk.corpus import stopwords"
      ],
      "metadata": {
        "id": "s9q1CCfgZ9U2"
      },
      "execution_count": null,
      "outputs": []
    },
    {
      "cell_type": "code",
      "source": [
        "stops=set(stopwords.words(\"english\"))"
      ],
      "metadata": {
        "id": "4Ry0cE0saGky"
      },
      "execution_count": null,
      "outputs": []
    },
    {
      "cell_type": "code",
      "source": [
        "filter_words=[]\n",
        "for word in clean_words:\n",
        "  if word not in stops:\n",
        "    filter_words.append(word)\n",
        "filter_words"
      ],
      "metadata": {
        "colab": {
          "base_uri": "https://localhost:8080/"
        },
        "id": "YRlw0TDaaI8L",
        "outputId": "cf5b2fa4-656b-4fa9-f4c2-fd16ef071cf9"
      },
      "execution_count": null,
      "outputs": [
        {
          "output_type": "execute_result",
          "data": {
            "text/plain": [
              "['hello',\n",
              " 'aayush',\n",
              " 'living',\n",
              " 'canada',\n",
              " 'mentally',\n",
              " 'wandering',\n",
              " 'streets',\n",
              " 'india',\n",
              " 'eating',\n",
              " 'american',\n",
              " 'food',\n",
              " 'living',\n",
              " 'indian',\n",
              " 'life',\n",
              " 'drinking',\n",
              " 'candian',\n",
              " 'water']"
            ]
          },
          "metadata": {},
          "execution_count": 90
        }
      ]
    },
    {
      "cell_type": "code",
      "source": [
        "# read stopwords from the text file\n",
        "# download and upload in colab https://www.kaggle.com/datasets/amirhoseinsedaghati/english-stopwords\n",
        "\n",
        "f= open(\"stopwords.txt\",\"r\")\n",
        "stopwords_external=[]\n",
        "for word in f.read().split(\"\\n\"):\n",
        "  # print(word)\n",
        "  # break\n",
        "  stopwords_external.append(word)\n",
        "# words\n",
        "# stopwords_external=set()"
      ],
      "metadata": {
        "id": "3jLDuyTfabbN"
      },
      "execution_count": null,
      "outputs": []
    },
    {
      "cell_type": "code",
      "source": [
        "stopwords_external.append(\"am\")"
      ],
      "metadata": {
        "id": "4o5n1k5xcbos"
      },
      "execution_count": null,
      "outputs": []
    },
    {
      "cell_type": "code",
      "source": [
        "stopwords_external=set(stopwords_external)"
      ],
      "metadata": {
        "id": "ux-0vybkb5Kv"
      },
      "execution_count": null,
      "outputs": []
    },
    {
      "cell_type": "code",
      "source": [
        "filter_words=[]\n",
        "for word in clean_words:\n",
        "  if word not in stopwords_external:\n",
        "    filter_words.append(word)\n"
      ],
      "metadata": {
        "id": "DqupnYpibFOa"
      },
      "execution_count": null,
      "outputs": []
    },
    {
      "cell_type": "code",
      "source": [
        "filter_words"
      ],
      "metadata": {
        "colab": {
          "base_uri": "https://localhost:8080/"
        },
        "id": "kcsiVQ51bS8g",
        "outputId": "165d2afa-1a37-4656-a743-bc9fb2b914ed"
      },
      "execution_count": null,
      "outputs": [
        {
          "output_type": "execute_result",
          "data": {
            "text/plain": [
              "['hello',\n",
              " 'aayush',\n",
              " 'living',\n",
              " 'canada',\n",
              " 'mentally',\n",
              " 'wandering',\n",
              " 'streets',\n",
              " 'india',\n",
              " 'eating',\n",
              " 'american',\n",
              " 'food',\n",
              " 'living',\n",
              " 'indian',\n",
              " 'life',\n",
              " 'drinking',\n",
              " 'candian',\n",
              " 'water']"
            ]
          },
          "metadata": {},
          "execution_count": 96
        }
      ]
    },
    {
      "cell_type": "code",
      "source": [],
      "metadata": {
        "id": "KFlAfO-SbN0J"
      },
      "execution_count": null,
      "outputs": []
    },
    {
      "cell_type": "markdown",
      "source": [
        "# Home Work\n"
      ],
      "metadata": {
        "id": "UhN4SxvAc1OQ"
      }
    },
    {
      "cell_type": "code",
      "source": [
        "corpus = [\n",
        "    # Positive Reviews\n",
        "\n",
        "    'This is an excellent movie',\n",
        "    'The move was fantastic I like it',\n",
        "    'You should watch it is brilliant',\n",
        "    'Exceptionally good',\n",
        "    'Wonderfully directed and executed I like it',\n",
        "    'Its a fantastic series',\n",
        "    'Never watched such a brillent movie',\n",
        "    'It is a Wonderful movie',\n",
        "\n",
        "    # Negtive Reviews\n",
        "\n",
        "    \"horrible acting\",\n",
        "    'waste of money',\n",
        "    'pathetic picture',\n",
        "    'It was very boring',\n",
        "    'I did not like the movie',\n",
        "    'The movie was horrible',\n",
        "    'I will not recommend',\n",
        "    'The acting is pathetic'\n",
        "]"
      ],
      "metadata": {
        "id": "-Ry6JHP6c6bd"
      },
      "execution_count": null,
      "outputs": []
    },
    {
      "cell_type": "code",
      "source": [
        "import numpy as np\n",
        "\n",
        "sentiments = np.array([1,1,1,1,1,1,1,1,0,0,0,0,0,0,0,0])"
      ],
      "metadata": {
        "id": "1WiceVx7c9WM"
      },
      "execution_count": null,
      "outputs": []
    },
    {
      "cell_type": "code",
      "source": [
        "# clean this\n",
        "# vectorize this\n",
        "# Any ML to train"
      ],
      "metadata": {
        "id": "1G9RPkl9c9zt"
      },
      "execution_count": null,
      "outputs": []
    },
    {
      "cell_type": "code",
      "source": [
        "# Importing the library\n",
        "import pandas as pd\n",
        "\n",
        "# Generating the features\n",
        "pd.get_dummies(\"This is NLP\".split())"
      ],
      "metadata": {
        "colab": {
          "base_uri": "https://localhost:8080/",
          "height": 143
        },
        "id": "8uRoJ5iodXGm",
        "outputId": "143f2082-53ac-4d51-dadd-3c81134dd95d"
      },
      "execution_count": null,
      "outputs": [
        {
          "output_type": "execute_result",
          "data": {
            "text/plain": [
              "     NLP   This     is\n",
              "0  False   True  False\n",
              "1  False  False   True\n",
              "2   True  False  False"
            ],
            "text/html": [
              "\n",
              "  <div id=\"df-4c5e1fe6-c19c-41d6-9c6e-0a848a8368a2\" class=\"colab-df-container\">\n",
              "    <div>\n",
              "<style scoped>\n",
              "    .dataframe tbody tr th:only-of-type {\n",
              "        vertical-align: middle;\n",
              "    }\n",
              "\n",
              "    .dataframe tbody tr th {\n",
              "        vertical-align: top;\n",
              "    }\n",
              "\n",
              "    .dataframe thead th {\n",
              "        text-align: right;\n",
              "    }\n",
              "</style>\n",
              "<table border=\"1\" class=\"dataframe\">\n",
              "  <thead>\n",
              "    <tr style=\"text-align: right;\">\n",
              "      <th></th>\n",
              "      <th>NLP</th>\n",
              "      <th>This</th>\n",
              "      <th>is</th>\n",
              "    </tr>\n",
              "  </thead>\n",
              "  <tbody>\n",
              "    <tr>\n",
              "      <th>0</th>\n",
              "      <td>False</td>\n",
              "      <td>True</td>\n",
              "      <td>False</td>\n",
              "    </tr>\n",
              "    <tr>\n",
              "      <th>1</th>\n",
              "      <td>False</td>\n",
              "      <td>False</td>\n",
              "      <td>True</td>\n",
              "    </tr>\n",
              "    <tr>\n",
              "      <th>2</th>\n",
              "      <td>True</td>\n",
              "      <td>False</td>\n",
              "      <td>False</td>\n",
              "    </tr>\n",
              "  </tbody>\n",
              "</table>\n",
              "</div>\n",
              "    <div class=\"colab-df-buttons\">\n",
              "\n",
              "  <div class=\"colab-df-container\">\n",
              "    <button class=\"colab-df-convert\" onclick=\"convertToInteractive('df-4c5e1fe6-c19c-41d6-9c6e-0a848a8368a2')\"\n",
              "            title=\"Convert this dataframe to an interactive table.\"\n",
              "            style=\"display:none;\">\n",
              "\n",
              "  <svg xmlns=\"http://www.w3.org/2000/svg\" height=\"24px\" viewBox=\"0 -960 960 960\">\n",
              "    <path d=\"M120-120v-720h720v720H120Zm60-500h600v-160H180v160Zm220 220h160v-160H400v160Zm0 220h160v-160H400v160ZM180-400h160v-160H180v160Zm440 0h160v-160H620v160ZM180-180h160v-160H180v160Zm440 0h160v-160H620v160Z\"/>\n",
              "  </svg>\n",
              "    </button>\n",
              "\n",
              "  <style>\n",
              "    .colab-df-container {\n",
              "      display:flex;\n",
              "      gap: 12px;\n",
              "    }\n",
              "\n",
              "    .colab-df-convert {\n",
              "      background-color: #E8F0FE;\n",
              "      border: none;\n",
              "      border-radius: 50%;\n",
              "      cursor: pointer;\n",
              "      display: none;\n",
              "      fill: #1967D2;\n",
              "      height: 32px;\n",
              "      padding: 0 0 0 0;\n",
              "      width: 32px;\n",
              "    }\n",
              "\n",
              "    .colab-df-convert:hover {\n",
              "      background-color: #E2EBFA;\n",
              "      box-shadow: 0px 1px 2px rgba(60, 64, 67, 0.3), 0px 1px 3px 1px rgba(60, 64, 67, 0.15);\n",
              "      fill: #174EA6;\n",
              "    }\n",
              "\n",
              "    .colab-df-buttons div {\n",
              "      margin-bottom: 4px;\n",
              "    }\n",
              "\n",
              "    [theme=dark] .colab-df-convert {\n",
              "      background-color: #3B4455;\n",
              "      fill: #D2E3FC;\n",
              "    }\n",
              "\n",
              "    [theme=dark] .colab-df-convert:hover {\n",
              "      background-color: #434B5C;\n",
              "      box-shadow: 0px 1px 3px 1px rgba(0, 0, 0, 0.15);\n",
              "      filter: drop-shadow(0px 1px 2px rgba(0, 0, 0, 0.3));\n",
              "      fill: #FFFFFF;\n",
              "    }\n",
              "  </style>\n",
              "\n",
              "    <script>\n",
              "      const buttonEl =\n",
              "        document.querySelector('#df-4c5e1fe6-c19c-41d6-9c6e-0a848a8368a2 button.colab-df-convert');\n",
              "      buttonEl.style.display =\n",
              "        google.colab.kernel.accessAllowed ? 'block' : 'none';\n",
              "\n",
              "      async function convertToInteractive(key) {\n",
              "        const element = document.querySelector('#df-4c5e1fe6-c19c-41d6-9c6e-0a848a8368a2');\n",
              "        const dataTable =\n",
              "          await google.colab.kernel.invokeFunction('convertToInteractive',\n",
              "                                                    [key], {});\n",
              "        if (!dataTable) return;\n",
              "\n",
              "        const docLinkHtml = 'Like what you see? Visit the ' +\n",
              "          '<a target=\"_blank\" href=https://colab.research.google.com/notebooks/data_table.ipynb>data table notebook</a>'\n",
              "          + ' to learn more about interactive tables.';\n",
              "        element.innerHTML = '';\n",
              "        dataTable['output_type'] = 'display_data';\n",
              "        await google.colab.output.renderOutput(dataTable, element);\n",
              "        const docLink = document.createElement('div');\n",
              "        docLink.innerHTML = docLinkHtml;\n",
              "        element.appendChild(docLink);\n",
              "      }\n",
              "    </script>\n",
              "  </div>\n",
              "\n",
              "\n",
              "<div id=\"df-de2d4af5-224b-472b-839a-f1b6856675a5\">\n",
              "  <button class=\"colab-df-quickchart\" onclick=\"quickchart('df-de2d4af5-224b-472b-839a-f1b6856675a5')\"\n",
              "            title=\"Suggest charts\"\n",
              "            style=\"display:none;\">\n",
              "\n",
              "<svg xmlns=\"http://www.w3.org/2000/svg\" height=\"24px\"viewBox=\"0 0 24 24\"\n",
              "     width=\"24px\">\n",
              "    <g>\n",
              "        <path d=\"M19 3H5c-1.1 0-2 .9-2 2v14c0 1.1.9 2 2 2h14c1.1 0 2-.9 2-2V5c0-1.1-.9-2-2-2zM9 17H7v-7h2v7zm4 0h-2V7h2v10zm4 0h-2v-4h2v4z\"/>\n",
              "    </g>\n",
              "</svg>\n",
              "  </button>\n",
              "\n",
              "<style>\n",
              "  .colab-df-quickchart {\n",
              "      --bg-color: #E8F0FE;\n",
              "      --fill-color: #1967D2;\n",
              "      --hover-bg-color: #E2EBFA;\n",
              "      --hover-fill-color: #174EA6;\n",
              "      --disabled-fill-color: #AAA;\n",
              "      --disabled-bg-color: #DDD;\n",
              "  }\n",
              "\n",
              "  [theme=dark] .colab-df-quickchart {\n",
              "      --bg-color: #3B4455;\n",
              "      --fill-color: #D2E3FC;\n",
              "      --hover-bg-color: #434B5C;\n",
              "      --hover-fill-color: #FFFFFF;\n",
              "      --disabled-bg-color: #3B4455;\n",
              "      --disabled-fill-color: #666;\n",
              "  }\n",
              "\n",
              "  .colab-df-quickchart {\n",
              "    background-color: var(--bg-color);\n",
              "    border: none;\n",
              "    border-radius: 50%;\n",
              "    cursor: pointer;\n",
              "    display: none;\n",
              "    fill: var(--fill-color);\n",
              "    height: 32px;\n",
              "    padding: 0;\n",
              "    width: 32px;\n",
              "  }\n",
              "\n",
              "  .colab-df-quickchart:hover {\n",
              "    background-color: var(--hover-bg-color);\n",
              "    box-shadow: 0 1px 2px rgba(60, 64, 67, 0.3), 0 1px 3px 1px rgba(60, 64, 67, 0.15);\n",
              "    fill: var(--button-hover-fill-color);\n",
              "  }\n",
              "\n",
              "  .colab-df-quickchart-complete:disabled,\n",
              "  .colab-df-quickchart-complete:disabled:hover {\n",
              "    background-color: var(--disabled-bg-color);\n",
              "    fill: var(--disabled-fill-color);\n",
              "    box-shadow: none;\n",
              "  }\n",
              "\n",
              "  .colab-df-spinner {\n",
              "    border: 2px solid var(--fill-color);\n",
              "    border-color: transparent;\n",
              "    border-bottom-color: var(--fill-color);\n",
              "    animation:\n",
              "      spin 1s steps(1) infinite;\n",
              "  }\n",
              "\n",
              "  @keyframes spin {\n",
              "    0% {\n",
              "      border-color: transparent;\n",
              "      border-bottom-color: var(--fill-color);\n",
              "      border-left-color: var(--fill-color);\n",
              "    }\n",
              "    20% {\n",
              "      border-color: transparent;\n",
              "      border-left-color: var(--fill-color);\n",
              "      border-top-color: var(--fill-color);\n",
              "    }\n",
              "    30% {\n",
              "      border-color: transparent;\n",
              "      border-left-color: var(--fill-color);\n",
              "      border-top-color: var(--fill-color);\n",
              "      border-right-color: var(--fill-color);\n",
              "    }\n",
              "    40% {\n",
              "      border-color: transparent;\n",
              "      border-right-color: var(--fill-color);\n",
              "      border-top-color: var(--fill-color);\n",
              "    }\n",
              "    60% {\n",
              "      border-color: transparent;\n",
              "      border-right-color: var(--fill-color);\n",
              "    }\n",
              "    80% {\n",
              "      border-color: transparent;\n",
              "      border-right-color: var(--fill-color);\n",
              "      border-bottom-color: var(--fill-color);\n",
              "    }\n",
              "    90% {\n",
              "      border-color: transparent;\n",
              "      border-bottom-color: var(--fill-color);\n",
              "    }\n",
              "  }\n",
              "</style>\n",
              "\n",
              "  <script>\n",
              "    async function quickchart(key) {\n",
              "      const quickchartButtonEl =\n",
              "        document.querySelector('#' + key + ' button');\n",
              "      quickchartButtonEl.disabled = true;  // To prevent multiple clicks.\n",
              "      quickchartButtonEl.classList.add('colab-df-spinner');\n",
              "      try {\n",
              "        const charts = await google.colab.kernel.invokeFunction(\n",
              "            'suggestCharts', [key], {});\n",
              "      } catch (error) {\n",
              "        console.error('Error during call to suggestCharts:', error);\n",
              "      }\n",
              "      quickchartButtonEl.classList.remove('colab-df-spinner');\n",
              "      quickchartButtonEl.classList.add('colab-df-quickchart-complete');\n",
              "    }\n",
              "    (() => {\n",
              "      let quickchartButtonEl =\n",
              "        document.querySelector('#df-de2d4af5-224b-472b-839a-f1b6856675a5 button');\n",
              "      quickchartButtonEl.style.display =\n",
              "        google.colab.kernel.accessAllowed ? 'block' : 'none';\n",
              "    })();\n",
              "  </script>\n",
              "</div>\n",
              "\n",
              "    </div>\n",
              "  </div>\n"
            ],
            "application/vnd.google.colaboratory.intrinsic+json": {
              "type": "dataframe",
              "summary": "{\n  \"name\": \"pd\",\n  \"rows\": 3,\n  \"fields\": [\n    {\n      \"column\": \"NLP\",\n      \"properties\": {\n        \"dtype\": \"boolean\",\n        \"num_unique_values\": 2,\n        \"samples\": [\n          true,\n          false\n        ],\n        \"semantic_type\": \"\",\n        \"description\": \"\"\n      }\n    },\n    {\n      \"column\": \"This\",\n      \"properties\": {\n        \"dtype\": \"boolean\",\n        \"num_unique_values\": 2,\n        \"samples\": [\n          false,\n          true\n        ],\n        \"semantic_type\": \"\",\n        \"description\": \"\"\n      }\n    },\n    {\n      \"column\": \"is\",\n      \"properties\": {\n        \"dtype\": \"boolean\",\n        \"num_unique_values\": 2,\n        \"samples\": [\n          true,\n          false\n        ],\n        \"semantic_type\": \"\",\n        \"description\": \"\"\n      }\n    }\n  ]\n}"
            }
          },
          "metadata": {},
          "execution_count": 100
        }
      ]
    },
    {
      "cell_type": "code",
      "source": [],
      "metadata": {
        "id": "hAUxaPRmdZXN"
      },
      "execution_count": null,
      "outputs": []
    }
  ]
}